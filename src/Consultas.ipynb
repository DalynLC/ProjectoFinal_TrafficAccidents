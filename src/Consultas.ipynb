{
 "cells": [
  {
   "cell_type": "code",
   "execution_count": null,
   "metadata": {
    "vscode": {
     "languageId": "plaintext"
    }
   },
   "outputs": [],
   "source": [
    "con = sqlite3.connect(\"../data/project_db.db\")\n",
    "cursor = con.cursor()\n",
    "\n",
    "# Obtener las primeras filas de la tabla project_db.db\n",
    "cursor.execute(\"SELECT * FROM accident LIMIT 5;\")\n",
    "rows = cursor.fetchall()\n",
    "\n",
    "for row in rows:\n",
    "    print(row)"
   ]
  },
  {
   "cell_type": "code",
   "execution_count": null,
   "metadata": {
    "vscode": {
     "languageId": "plaintext"
    }
   },
   "outputs": [],
   "source": [
    "#Conteo de el total de accidentes en la base de datos\n",
    "cursor.execute(\"SELECT COUNT(*) FROM accident;\")\n",
    "total_accidents = cursor.fetchone()[0]\n",
    "print(f\"Total de accidentes registrados: {total_accidents}\")"
   ]
  },
  {
   "cell_type": "code",
   "execution_count": null,
   "metadata": {
    "vscode": {
     "languageId": "plaintext"
    }
   },
   "outputs": [],
   "source": [
    "#Obtener los tipos de accidente mas frecuentes\n",
    "cursor.execute(\"\"\"\n",
    "    SELECT crash_type, COUNT(*) as accident_count\n",
    "    FROM accident\n",
    "    GROUP BY crash_type\n",
    "    ORDER BY accident_count DESC\n",
    "    LIMIT 5;\n",
    "\"\"\")\n",
    "top_locations = cursor.fetchall()\n",
    "\n",
    "print(\"🏙️ Lugares con más accidentes:\")\n",
    "for location, count in top_locations:\n",
    "    print(f\"{location}: {count} accidentes\")"
   ]
  },
  {
   "cell_type": "code",
   "execution_count": null,
   "metadata": {
    "vscode": {
     "languageId": "plaintext"
    }
   },
   "outputs": [],
   "source": [
    "#Obtener los accidentes más recientes\n",
    "cursor.execute(\"\"\"\n",
    "    SELECT * FROM accident\n",
    "    ORDER BY crash_date DESC\n",
    "    LIMIT 5;\n",
    "\"\"\")\n",
    "recent_accidents = cursor.fetchall()\n",
    "\n",
    "print(\"📅 Accidentes más recientes:\")\n",
    "for accident in recent_accidents:\n",
    "    print(accident)"
   ]
  }
 ],
 "metadata": {
  "language_info": {
   "name": "python"
  }
 },
 "nbformat": 4,
 "nbformat_minor": 2
}
