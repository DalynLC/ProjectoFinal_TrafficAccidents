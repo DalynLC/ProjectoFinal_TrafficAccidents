{
 "cells": [
  {
   "cell_type": "code",
   "execution_count": 1,
   "metadata": {},
   "outputs": [
    {
     "name": "stdout",
     "output_type": "stream",
     "text": [
      "('07/29/2023 01:00:00 PM', 'TRAFFIC SIGNAL', 'CLEAR', 'DAYLIGHT', 'TURNING', 'NOT DIVIDED', 'STRAIGHT AND LEVEL', 'UNKNOWN', 'UNKNOWN', 'NO INJURY / DRIVE AWAY', 'Y', '$501 - $1,500', 'UNABLE TO DETERMINE', 2, 'NO INDICATION OF INJURY', 0.0, 0.0, 0.0, 0.0, 0.0, 3.0, 13, 7, 7)\n",
      "('08/13/2023 12:11:00 AM', 'TRAFFIC SIGNAL', 'CLEAR', 'DARKNESS, LIGHTED ROAD', 'TURNING', 'FOUR WAY', 'STRAIGHT AND LEVEL', 'DRY', 'NO DEFECTS', 'NO INJURY / DRIVE AWAY', 'Y', 'OVER $1,500', 'IMPROPER TURNING/NO SIGNAL', 2, 'NO INDICATION OF INJURY', 0.0, 0.0, 0.0, 0.0, 0.0, 2.0, 0, 1, 8)\n",
      "('12/09/2021 10:30:00 AM', 'TRAFFIC SIGNAL', 'CLEAR', 'DAYLIGHT', 'REAR END', 'T-INTERSECTION', 'STRAIGHT AND LEVEL', 'DRY', 'NO DEFECTS', 'NO INJURY / DRIVE AWAY', 'Y', '$501 - $1,500', 'FOLLOWING TOO CLOSELY', 3, 'NO INDICATION OF INJURY', 0.0, 0.0, 0.0, 0.0, 0.0, 3.0, 10, 5, 12)\n",
      "('08/09/2023 07:55:00 PM', 'TRAFFIC SIGNAL', 'CLEAR', 'DAYLIGHT', 'ANGLE', 'FOUR WAY', 'STRAIGHT AND LEVEL', 'DRY', 'NO DEFECTS', 'INJURY AND / OR TOW DUE TO CRASH', 'Y', 'OVER $1,500', 'UNABLE TO DETERMINE', 2, 'NONINCAPACITATING INJURY', 5.0, 0.0, 0.0, 5.0, 0.0, 0.0, 19, 4, 8)\n",
      "('08/19/2023 02:55:00 PM', 'TRAFFIC SIGNAL', 'CLEAR', 'DAYLIGHT', 'REAR END', 'T-INTERSECTION', 'STRAIGHT AND LEVEL', 'UNKNOWN', 'UNKNOWN', 'NO INJURY / DRIVE AWAY', 'Y', '$501 - $1,500', 'DRIVING SKILLS/KNOWLEDGE/EXPERIENCE', 2, 'NO INDICATION OF INJURY', 0.0, 0.0, 0.0, 0.0, 0.0, 3.0, 14, 7, 8)\n"
     ]
    }
   ],
   "source": [
    "import sqlite3\n",
    "\n",
    "con = sqlite3.connect(\"../data/project_db.db\")\n",
    "cursor = con.cursor()\n",
    "\n",
    "# Obtener las primeras filas de la tabla project_db.db\n",
    "cursor.execute(\"SELECT * FROM accident LIMIT 5;\")\n",
    "rows = cursor.fetchall()\n",
    "\n",
    "for row in rows:\n",
    "    print(row)"
   ]
  },
  {
   "cell_type": "code",
   "execution_count": 2,
   "metadata": {},
   "outputs": [
    {
     "name": "stdout",
     "output_type": "stream",
     "text": [
      "Total de accidentes registrados: 209306\n"
     ]
    }
   ],
   "source": [
    "#Conteo de el total de accidentes en la base de datos\n",
    "cursor.execute(\"SELECT COUNT(*) FROM accident;\")\n",
    "total_accidents = cursor.fetchone()[0]\n",
    "print(f\"Total de accidentes registrados: {total_accidents}\")"
   ]
  },
  {
   "cell_type": "code",
   "execution_count": 3,
   "metadata": {},
   "outputs": [
    {
     "name": "stdout",
     "output_type": "stream",
     "text": [
      "🏙️ Lugares con más accidentes:\n",
      "NO INJURY / DRIVE AWAY: 117376 accidentes\n",
      "INJURY AND / OR TOW DUE TO CRASH: 91930 accidentes\n"
     ]
    }
   ],
   "source": [
    "#Obtener los tipos de accidente mas frecuentes\n",
    "cursor.execute(\"\"\"\n",
    "    SELECT crash_type, COUNT(*) as accident_count\n",
    "    FROM accident\n",
    "    GROUP BY crash_type\n",
    "    ORDER BY accident_count DESC\n",
    "    LIMIT 5;\n",
    "\"\"\")\n",
    "top_locations = cursor.fetchall()\n",
    "\n",
    "print(\"🏙️ Lugares con más accidentes:\")\n",
    "for location, count in top_locations:\n",
    "    print(f\"{location}: {count} accidentes\")"
   ]
  },
  {
   "cell_type": "code",
   "execution_count": 4,
   "metadata": {},
   "outputs": [
    {
     "name": "stdout",
     "output_type": "stream",
     "text": [
      "📅 Accidentes más recientes:\n",
      "('12/31/2024 12:55:00 PM', 'TRAFFIC SIGNAL', 'RAIN', 'DAYLIGHT', 'PEDESTRIAN', 'NOT DIVIDED', 'STRAIGHT AND LEVEL', 'WET', 'NO DEFECTS', 'INJURY AND / OR TOW DUE TO CRASH', 'Y', 'OVER $1,500', 'FAILING TO YIELD RIGHT-OF-WAY', 2, 'INCAPACITATING INJURY', 1.0, 0.0, 1.0, 0.0, 0.0, 1.0, 12, 3, 12)\n",
      "('12/31/2024 12:32:00 AM', 'TRAFFIC SIGNAL', 'RAIN', 'DARKNESS, LIGHTED ROAD', 'SIDESWIPE SAME DIRECTION', 'DIVIDED - W/MEDIAN (NOT RAISED)', 'STRAIGHT AND LEVEL', 'WET', 'NO DEFECTS', 'INJURY AND / OR TOW DUE TO CRASH', 'Y', 'OVER $1,500', 'OPERATING VEHICLE IN ERRATIC, RECKLESS, CARELESS, NEGLIGENT OR AGGRESSIVE MANNER', 4, 'NO INDICATION OF INJURY', 0.0, 0.0, 0.0, 0.0, 0.0, 6.0, 0, 3, 12)\n",
      "('12/31/2024 12:30:00 PM', 'TRAFFIC SIGNAL', 'RAIN', 'DAYLIGHT', 'ANGLE', 'FOUR WAY', 'STRAIGHT AND LEVEL', 'WET', 'NO DEFECTS', 'NO INJURY / DRIVE AWAY', 'Y', 'OVER $1,500', 'DISREGARDING OTHER TRAFFIC SIGNS', 2, 'NO INDICATION OF INJURY', 0.0, 0.0, 0.0, 0.0, 0.0, 2.0, 12, 3, 12)\n",
      "('12/31/2024 12:30:00 AM', 'STOP SIGN/FLASHER', 'RAIN', 'DARKNESS, LIGHTED ROAD', 'ANGLE', 'NOT DIVIDED', 'STRAIGHT AND LEVEL', 'WET', 'NO DEFECTS', 'INJURY AND / OR TOW DUE TO CRASH', 'Y', 'OVER $1,500', 'FAILING TO YIELD RIGHT-OF-WAY', 2, 'INCAPACITATING INJURY', 1.0, 0.0, 1.0, 0.0, 0.0, 1.0, 0, 3, 12)\n",
      "('12/31/2024 12:22:00 PM', 'NO CONTROLS', 'RAIN', 'DAYLIGHT', 'TURNING', 'DIVIDED - W/MEDIAN (NOT RAISED)', 'STRAIGHT AND LEVEL', 'WET', 'NO DEFECTS', 'NO INJURY / DRIVE AWAY', 'Y', 'OVER $1,500', 'FAILING TO YIELD RIGHT-OF-WAY', 2, 'NO INDICATION OF INJURY', 0.0, 0.0, 0.0, 0.0, 0.0, 2.0, 12, 3, 12)\n"
     ]
    }
   ],
   "source": [
    "#Obtener los accidentes más recientes\n",
    "cursor.execute(\"\"\"\n",
    "    SELECT * FROM accident\n",
    "    ORDER BY crash_date DESC\n",
    "    LIMIT 5;\n",
    "\"\"\")\n",
    "recent_accidents = cursor.fetchall()\n",
    "\n",
    "print(\"📅 Accidentes más recientes:\")\n",
    "for accident in recent_accidents:\n",
    "    print(accident)"
   ]
  }
 ],
 "metadata": {
  "kernelspec": {
   "display_name": "Python 3",
   "language": "python",
   "name": "python3"
  },
  "language_info": {
   "codemirror_mode": {
    "name": "ipython",
    "version": 3
   },
   "file_extension": ".py",
   "mimetype": "text/x-python",
   "name": "python",
   "nbconvert_exporter": "python",
   "pygments_lexer": "ipython3",
   "version": "3.10.12"
  }
 },
 "nbformat": 4,
 "nbformat_minor": 2
}
